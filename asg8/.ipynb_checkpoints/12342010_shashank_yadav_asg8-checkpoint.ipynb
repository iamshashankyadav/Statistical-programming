{
 "cells": [
  {
   "cell_type": "code",
   "execution_count": null,
   "id": "5653a632-b4b6-45c0-8f1f-4e382f9fce86",
   "metadata": {},
   "outputs": [],
   "source": []
  }
 ],
 "metadata": {
  "kernelspec": {
   "display_name": "",
   "name": ""
  },
  "language_info": {
   "name": ""
  }
 },
 "nbformat": 4,
 "nbformat_minor": 5
}
