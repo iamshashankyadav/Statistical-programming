{
  "nbformat": 4,
  "nbformat_minor": 0,
  "metadata": {
    "colab": {
      "provenance": []
    },
    "kernelspec": {
      "name": "python3",
      "display_name": "Python 3"
    },
    "language_info": {
      "name": "python"
    }
  },
  "cells": [
    {
      "cell_type": "code",
      "execution_count": 1,
      "metadata": {
        "id": "CgcZigivy0aj"
      },
      "outputs": [],
      "source": [
        "import pandas as pd\n",
        "import numpy as np\n",
        "import matplotlib.pyplot as plt\n",
        "import seaborn as sns\n",
        "import statsmodels.api as sm\n",
        "from statsmodels.formula.api import ols\n",
        "from scipy.stats import t\n",
        "from scipy import stats"
      ]
    },
    {
      "cell_type": "code",
      "source": [
        "# Create the dataset from the provided table\n",
        "data = {\n",
        "    'Vehicle': list(range(1, 21)),\n",
        "    'Engine_Size': [1.6, 2.0, 2.4, 1.8, 2.2, 3.0, 2.0, 1.5, 2.5, 3.2, 1.4, 2.1, 3.5, 1.6, 2.3, 2.8, 2.6, 1.3, 3.1, 1.7],\n",
        "    'Weight': [1200, 1300, 1500, 1250, 1400, 1600, 1350, 1100, 1550, 1650, 1050, 1380, 1700, 1150, 1450, 1580, 1520, 1020, 1620, 1180],\n",
        "    'Horsepower': [110, 130, 150, 115, 140, 180, 135, 105, 160, 190, 100, 138, 200, 108, 145, 170, 155, 98, 185, 112],\n",
        "    'MPG': [34, 30, 27, 32, 28, 22, 29, 36, 25, 20, 38, 28, 18, 35, 26, 23, 24, 39, 21, 33]\n",
        "}\n",
        "df = pd.DataFrame(data)"
      ],
      "metadata": {
        "id": "Y3s0Un7wy_l-"
      },
      "execution_count": 2,
      "outputs": []
    },
    {
      "cell_type": "code",
      "source": [
        "X = df[['Engine_Size', 'Weight', 'Horsepower']]\n",
        "y = df['MPG']\n",
        "# (a) Fit multiple linear regression model\n",
        "# Adding a constant for the intercept\n",
        "X_with_const = sm.add_constant(X)\n",
        "model = sm.OLS(y, X_with_const).fit()\n",
        "# (b) Corresponding Regression Equation\n",
        "print(\"\\nRegression Equation:\")\n",
        "equation = f\"MPG = {model.params[0]:.4f}\"\n",
        "for i, col in enumerate(X.columns):\n",
        "    if model.params[i+1] >= 0:\n",
        "        equation += f\" + {model.params[i+1]:.4f} × {col}\"\n",
        "    else:\n",
        "        equation += f\" {model.params[i+1]:.4f} × {col}\"\n",
        "print(equation)"
      ],
      "metadata": {
        "colab": {
          "base_uri": "https://localhost:8080/"
        },
        "id": "OeuR-ZzMzJFs",
        "outputId": "460867aa-c64d-49e2-8c99-a72ce0327fb8"
      },
      "execution_count": 3,
      "outputs": [
        {
          "output_type": "stream",
          "name": "stdout",
          "text": [
            "\n",
            "Regression Equation:\n",
            "MPG = 61.0782 -5.4978 × Engine_Size -0.0204 × Weight + 0.0545 × Horsepower\n"
          ]
        },
        {
          "output_type": "stream",
          "name": "stderr",
          "text": [
            "<ipython-input-3-421cdf65bdc9>:9: FutureWarning: Series.__getitem__ treating keys as positions is deprecated. In a future version, integer keys will always be treated as labels (consistent with DataFrame behavior). To access a value by position, use `ser.iloc[pos]`\n",
            "  equation = f\"MPG = {model.params[0]:.4f}\"\n",
            "<ipython-input-3-421cdf65bdc9>:11: FutureWarning: Series.__getitem__ treating keys as positions is deprecated. In a future version, integer keys will always be treated as labels (consistent with DataFrame behavior). To access a value by position, use `ser.iloc[pos]`\n",
            "  if model.params[i+1] >= 0:\n",
            "<ipython-input-3-421cdf65bdc9>:14: FutureWarning: Series.__getitem__ treating keys as positions is deprecated. In a future version, integer keys will always be treated as labels (consistent with DataFrame behavior). To access a value by position, use `ser.iloc[pos]`\n",
            "  equation += f\" {model.params[i+1]:.4f} × {col}\"\n",
            "<ipython-input-3-421cdf65bdc9>:12: FutureWarning: Series.__getitem__ treating keys as positions is deprecated. In a future version, integer keys will always be treated as labels (consistent with DataFrame behavior). To access a value by position, use `ser.iloc[pos]`\n",
            "  equation += f\" + {model.params[i+1]:.4f} × {col}\"\n"
          ]
        }
      ]
    },
    {
      "cell_type": "code",
      "source": [
        "# (c)\n",
        "# 1. Coefficients and intercept\n",
        "print(\"Coefficients and Intercept:\")\n",
        "print(f\"Intercept: {model.params[0]}\")\n",
        "print(f\"Engine Size Coefficient: {model.params[1]}\")\n",
        "print(f\"Weight Coefficient: {model.params[2]}\")\n",
        "print(f\"Horsepower Coefficient: {model.params[3]}\")\n",
        "# 2. p-values\n",
        "betas = model.params\n",
        "std_errors = model.bse\n",
        "# t-statistics\n",
        "t_stats = betas / std_errors\n",
        "# Degrees of freedom\n",
        "df = model.df_resid\n",
        "# Manual p-values\n",
        "p_values_manual = 2 * (1 - t.cdf(abs(t_stats), df))\n",
        "# Print\n",
        "print(\"Manual p-values:\")\n",
        "for i, name in enumerate(betas.index):\n",
        "    print(f\"{name} p-value: {p_values_manual[i]}\")\n",
        "# 3. R-squared value\n",
        "print(f\"R-squared: {model.rsquared}\")\n",
        "print(f\"Adjusted R-squared: {model.rsquared_adj}\")"
      ],
      "metadata": {
        "colab": {
          "base_uri": "https://localhost:8080/"
        },
        "id": "BTVURrVRzOZq",
        "outputId": "7898e403-b0da-4909-abba-453150fc7e8c"
      },
      "execution_count": 4,
      "outputs": [
        {
          "output_type": "stream",
          "name": "stdout",
          "text": [
            "Coefficients and Intercept:\n",
            "Intercept: 61.0781743808722\n",
            "Engine Size Coefficient: -5.497849497990185\n",
            "Weight Coefficient: -0.020411564881137337\n",
            "Horsepower Coefficient: 0.05448662861574405\n",
            "Manual p-values:\n",
            "const p-value: 1.887379141862766e-14\n",
            "Engine_Size p-value: 0.05415802519190138\n",
            "Weight p-value: 2.295491765424984e-05\n",
            "Horsepower p-value: 0.3636529069488814\n",
            "R-squared: 0.9903776795531836\n",
            "Adjusted R-squared: 0.9885734944694055\n"
          ]
        },
        {
          "output_type": "stream",
          "name": "stderr",
          "text": [
            "<ipython-input-4-3d08726db573>:4: FutureWarning: Series.__getitem__ treating keys as positions is deprecated. In a future version, integer keys will always be treated as labels (consistent with DataFrame behavior). To access a value by position, use `ser.iloc[pos]`\n",
            "  print(f\"Intercept: {model.params[0]}\")\n",
            "<ipython-input-4-3d08726db573>:5: FutureWarning: Series.__getitem__ treating keys as positions is deprecated. In a future version, integer keys will always be treated as labels (consistent with DataFrame behavior). To access a value by position, use `ser.iloc[pos]`\n",
            "  print(f\"Engine Size Coefficient: {model.params[1]}\")\n",
            "<ipython-input-4-3d08726db573>:6: FutureWarning: Series.__getitem__ treating keys as positions is deprecated. In a future version, integer keys will always be treated as labels (consistent with DataFrame behavior). To access a value by position, use `ser.iloc[pos]`\n",
            "  print(f\"Weight Coefficient: {model.params[2]}\")\n",
            "<ipython-input-4-3d08726db573>:7: FutureWarning: Series.__getitem__ treating keys as positions is deprecated. In a future version, integer keys will always be treated as labels (consistent with DataFrame behavior). To access a value by position, use `ser.iloc[pos]`\n",
            "  print(f\"Horsepower Coefficient: {model.params[3]}\")\n"
          ]
        }
      ]
    },
    {
      "cell_type": "code",
      "source": [
        "# 4. Plotting of residual values\n",
        "residuals = model.resid\n",
        "fitted_values = model.fittedvalues\n",
        "plt.figure(figsize=(15, 10))\n",
        "# Residuals vs Fitted Values\n",
        "plt.subplot(2, 2, 1)\n",
        "sns.scatterplot(x=fitted_values, y=residuals)\n",
        "plt.axhline(y=0, color='r', linestyle='-')\n",
        "plt.title('Residuals vs Fitted Values')\n",
        "plt.xlabel('Fitted Values')\n",
        "plt.ylabel('Residuals')\n"
      ],
      "metadata": {
        "colab": {
          "base_uri": "https://localhost:8080/",
          "height": 469
        },
        "id": "TQgzKuSx1WLv",
        "outputId": "ca59c99e-ac7e-477d-812d-6e2f4c217142"
      },
      "execution_count": 5,
      "outputs": [
        {
          "output_type": "execute_result",
          "data": {
            "text/plain": [
              "Text(0, 0.5, 'Residuals')"
            ]
          },
          "metadata": {},
          "execution_count": 5
        },
        {
          "output_type": "display_data",
          "data": {
            "text/plain": [
              "<Figure size 1500x1000 with 1 Axes>"
            ],
            "image/png": "[encoded data removed]"
          },
          "metadata": {}
        }
      ]
    },
    {
      "cell_type": "code",
      "source": [
        "# 5. Hypothesis Testing for each predictor\n",
        "alpha = 0.01\n",
        "print(f\"\\nAt significance level α = {alpha}:\")\n",
        "for var_name, p_value in zip(['Engine_Size', 'Weight', 'Horsepower'], model.pvalues[1:]):\n",
        "        if p_value < alpha:\n",
        "            print(f\"  {var_name} is statistically significant (p-value: {p_value:.4f} < {alpha})\")\n",
        "        else:\n",
        "            print(f\"  {var_name} is NOT statistically significant (p-value: {p_value:.4f} > {alpha})\")\n",
        "# (d and e) Show the results for different levels of significance.\n",
        "significance_levels = [0.001, 0.05, 0.1]\n",
        "print(\"Results for different significance levels:\")\n",
        "for alpha in significance_levels:\n",
        "    print(f\"\\nAt significance level α = {alpha}:\")\n",
        "    for var_name, p_value in zip(['Engine_Size', 'Weight', 'Horsepower'], model.pvalues[1:]):\n",
        "        if p_value < alpha:\n",
        "            print(f\"  {var_name} is statistically significant (p-value: {p_value:.4f} < {alpha})\")\n",
        "        else:\n",
        "            print(f\"  {var_name} is NOT statistically significant (p-value: {p_value:.4f} > {alpha})\")"
      ],
      "metadata": {
        "colab": {
          "base_uri": "https://localhost:8080/"
        },
        "id": "87mprCid1ipu",
        "outputId": "ddbc2d1f-ba35-4ae1-ce1e-4418ed4d19f2"
      },
      "execution_count": 6,
      "outputs": [
        {
          "output_type": "stream",
          "name": "stdout",
          "text": [
            "\n",
            "At significance level α = 0.01:\n",
            "  Engine_Size is NOT statistically significant (p-value: 0.0542 > 0.01)\n",
            "  Weight is statistically significant (p-value: 0.0000 < 0.01)\n",
            "  Horsepower is NOT statistically significant (p-value: 0.3637 > 0.01)\n",
            "Results for different significance levels:\n",
            "\n",
            "At significance level α = 0.001:\n",
            "  Engine_Size is NOT statistically significant (p-value: 0.0542 > 0.001)\n",
            "  Weight is statistically significant (p-value: 0.0000 < 0.001)\n",
            "  Horsepower is NOT statistically significant (p-value: 0.3637 > 0.001)\n",
            "\n",
            "At significance level α = 0.05:\n",
            "  Engine_Size is NOT statistically significant (p-value: 0.0542 > 0.05)\n",
            "  Weight is statistically significant (p-value: 0.0000 < 0.05)\n",
            "  Horsepower is NOT statistically significant (p-value: 0.3637 > 0.05)\n",
            "\n",
            "At significance level α = 0.1:\n",
            "  Engine_Size is statistically significant (p-value: 0.0542 < 0.1)\n",
            "  Weight is statistically significant (p-value: 0.0000 < 0.1)\n",
            "  Horsepower is NOT statistically significant (p-value: 0.3637 > 0.1)\n"
          ]
        }
      ]
    },
    {
      "cell_type": "code",
      "source": [
        "# Create the dataset from the provided table\n",
        "data = {\n",
        "    'Father_Height': [60, 62, 64, 65, 66, 67, 68, 70, 72, 74],\n",
        "    'Mother_Height': [61, 63, 63, 64, 65, 66, 66, 67, 68, 69],\n",
        "    'Son_Height': [63.6, 65.2, 66.0, 65.5, 66.9, 67.1, 67.4, 68.3, 70.1, 70.0]\n",
        "}\n",
        "df = pd.DataFrame(data)"
      ],
      "metadata": {
        "id": "1XR4EyVc1s5e"
      },
      "execution_count": 7,
      "outputs": []
    },
    {
      "cell_type": "code",
      "source": [
        "# (a) Fit multiple linear regression model\n",
        "X = df[['Father_Height', 'Mother_Height']]\n",
        "X = sm.add_constant(X)  # Add intercept\n",
        "y = df['Son_Height']\n",
        "model = sm.OLS(y, X).fit()\n",
        "# Create regression equation\n",
        "equation = f\"Son's Height = {model.params[0]:.4f} + {model.params[1]:.4f} × Father's Height + {model.params[2]:.4f} × Mother's Height\"\n",
        "print(f\"Regression Equation:\")\n",
        "print(equation)"
      ],
      "metadata": {
        "colab": {
          "base_uri": "https://localhost:8080/"
        },
        "id": "uH072egn5fOc",
        "outputId": "f157dd7c-c848-4c05-8454-bafebc765588"
      },
      "execution_count": 8,
      "outputs": [
        {
          "output_type": "stream",
          "name": "stdout",
          "text": [
            "Regression Equation:\n",
            "Son's Height = 30.3171 + 0.3497 × Father's Height + 0.2045 × Mother's Height\n"
          ]
        },
        {
          "output_type": "stream",
          "name": "stderr",
          "text": [
            "<ipython-input-8-98ace71536e7>:7: FutureWarning: Series.__getitem__ treating keys as positions is deprecated. In a future version, integer keys will always be treated as labels (consistent with DataFrame behavior). To access a value by position, use `ser.iloc[pos]`\n",
            "  equation = f\"Son's Height = {model.params[0]:.4f} + {model.params[1]:.4f} × Father's Height + {model.params[2]:.4f} × Mother's Height\"\n"
          ]
        }
      ]
    },
    {
      "cell_type": "code",
      "source": [
        "print(\"Regression Summary:\")\n",
        "print(model.summary())"
      ],
      "metadata": {
        "colab": {
          "base_uri": "https://localhost:8080/"
        },
        "id": "3V4pwi7w5mfb",
        "outputId": "58f0fec3-c5cd-4bf0-eefc-e03116463def"
      },
      "execution_count": 9,
      "outputs": [
        {
          "output_type": "stream",
          "name": "stdout",
          "text": [
            "Regression Summary:\n",
            "                            OLS Regression Results                            \n",
            "==============================================================================\n",
            "Dep. Variable:             Son_Height   R-squared:                       0.963\n",
            "Model:                            OLS   Adj. R-squared:                  0.952\n",
            "Method:                 Least Squares   F-statistic:                     90.60\n",
            "Date:                Thu, 24 Apr 2025   Prob (F-statistic):           9.93e-06\n",
            "Time:                        10:31:37   Log-Likelihood:                -4.4758\n",
            "No. Observations:                  10   AIC:                             14.95\n",
            "Df Residuals:                       7   BIC:                             15.86\n",
            "Df Model:                           2                                         \n",
            "Covariance Type:            nonrobust                                         \n",
            "=================================================================================\n",
            "                    coef    std err          t      P>|t|      [0.025      0.975]\n",
            "---------------------------------------------------------------------------------\n",
            "const            30.3171     10.669      2.842      0.025       5.088      55.546\n",
            "Father_Height     0.3497      0.214      1.632      0.147      -0.157       0.856\n",
            "Mother_Height     0.2045      0.376      0.543      0.604      -0.685       1.095\n",
            "==============================================================================\n",
            "Omnibus:                        0.261   Durbin-Watson:                   2.803\n",
            "Prob(Omnibus):                  0.878   Jarque-Bera (JB):                0.375\n",
            "Skew:                           0.275   Prob(JB):                        0.829\n",
            "Kurtosis:                       2.227   Cond. No.                     6.97e+03\n",
            "==============================================================================\n",
            "\n",
            "Notes:\n",
            "[1] Standard Errors assume that the covariance matrix of the errors is correctly specified.\n",
            "[2] The condition number is large, 6.97e+03. This might indicate that there are\n",
            "strong multicollinearity or other numerical problems.\n"
          ]
        },
        {
          "output_type": "stream",
          "name": "stderr",
          "text": [
            "/usr/local/lib/python3.11/dist-packages/scipy/stats/_axis_nan_policy.py:418: UserWarning: `kurtosistest` p-value may be inaccurate with fewer than 20 observations; only n=10 observations were given.\n",
            "  return hypotest_fun_in(*args, **kwds)\n"
          ]
        }
      ]
    },
    {
      "cell_type": "code",
      "source": [
        "# (b) Interpret regression coefficients\n",
        "print(\"Regression Coefficients:\")\n",
        "print(f\"Intercept: {model.params[0]:.4f}\")\n",
        "print(f\"Father's Height Coefficient: {model.params[1]:.4f}\")\n",
        "print(f\"Mother's Height Coefficient: {model.params[2]:.4f}\")\n",
        "# (c) Test for regression toward the mean\n",
        "# For Father's height coefficient\n",
        "t_father = (model.params[1] - 1) / model.bse[1]\n",
        "p_father = 1 - stats.t.cdf(t_father, df=model.df_resid)  # one-tailed test\n",
        "print(t_father,p_father)\n",
        "# For Mother's height coefficient\n",
        "t_mother = (model.params[2] - 1) / model.bse[2]\n",
        "p_mother = 1 - stats.t.cdf(t_mother, df=model.df_resid)  # one-tailed test\n",
        "print(t_mother,p_mother)"
      ],
      "metadata": {
        "colab": {
          "base_uri": "https://localhost:8080/"
        },
        "id": "evSsoQiO5snP",
        "outputId": "8ce987ca-e749-48fb-9cf4-d29a6528ed27"
      },
      "execution_count": 10,
      "outputs": [
        {
          "output_type": "stream",
          "name": "stdout",
          "text": [
            "Regression Coefficients:\n",
            "Intercept: 30.3171\n",
            "Father's Height Coefficient: 0.3497\n",
            "Mother's Height Coefficient: 0.2045\n",
            "-3.035453970003843 0.9905159459360942\n",
            "-2.1135131295052187 0.9637940965990951\n"
          ]
        },
        {
          "output_type": "stream",
          "name": "stderr",
          "text": [
            "<ipython-input-10-60cc4a95a6a4>:3: FutureWarning: Series.__getitem__ treating keys as positions is deprecated. In a future version, integer keys will always be treated as labels (consistent with DataFrame behavior). To access a value by position, use `ser.iloc[pos]`\n",
            "  print(f\"Intercept: {model.params[0]:.4f}\")\n",
            "<ipython-input-10-60cc4a95a6a4>:4: FutureWarning: Series.__getitem__ treating keys as positions is deprecated. In a future version, integer keys will always be treated as labels (consistent with DataFrame behavior). To access a value by position, use `ser.iloc[pos]`\n",
            "  print(f\"Father's Height Coefficient: {model.params[1]:.4f}\")\n",
            "<ipython-input-10-60cc4a95a6a4>:5: FutureWarning: Series.__getitem__ treating keys as positions is deprecated. In a future version, integer keys will always be treated as labels (consistent with DataFrame behavior). To access a value by position, use `ser.iloc[pos]`\n",
            "  print(f\"Mother's Height Coefficient: {model.params[2]:.4f}\")\n",
            "<ipython-input-10-60cc4a95a6a4>:8: FutureWarning: Series.__getitem__ treating keys as positions is deprecated. In a future version, integer keys will always be treated as labels (consistent with DataFrame behavior). To access a value by position, use `ser.iloc[pos]`\n",
            "  t_father = (model.params[1] - 1) / model.bse[1]\n",
            "<ipython-input-10-60cc4a95a6a4>:12: FutureWarning: Series.__getitem__ treating keys as positions is deprecated. In a future version, integer keys will always be treated as labels (consistent with DataFrame behavior). To access a value by position, use `ser.iloc[pos]`\n",
            "  t_mother = (model.params[2] - 1) / model.bse[2]\n"
          ]
        }
      ]
    },
    {
      "cell_type": "code",
      "source": [
        "print(f\"H0: Father's Height Coefficient < 1 vs H1: Father's Height Coefficient >= 1\")\n",
        "print(f\"t-statistic: {t_father:.4f}, p-value: {p_father:.4f}\")\n",
        "print(f\"H0: Mother's Height Coefficient < 1 vs H1: Mother's Height Coefficient >= 1\")\n",
        "print(f\"t-statistic: {t_mother:.4f}, p-value: {p_mother:.4f}\")"
      ],
      "metadata": {
        "colab": {
          "base_uri": "https://localhost:8080/"
        },
        "id": "GTg7-R256lIW",
        "outputId": "71b82236-7f73-483b-c1cc-c016e9273b46"
      },
      "execution_count": 11,
      "outputs": [
        {
          "output_type": "stream",
          "name": "stdout",
          "text": [
            "H0: Father's Height Coefficient < 1 vs H1: Father's Height Coefficient >= 1\n",
            "t-statistic: -3.0355, p-value: 0.9905\n",
            "H0: Mother's Height Coefficient < 1 vs H1: Mother's Height Coefficient >= 1\n",
            "t-statistic: -2.1135, p-value: 0.9638\n"
          ]
        }
      ]
    },
    {
      "cell_type": "code",
      "source": [
        "alpha = 0.05\n",
        "if p_father < alpha:\n",
        "    print(f\"Reject H0 for Father's Height: Evidence that coefficient is less than 1 (p = {p_father:.4f})\")\n",
        "else:\n",
        "    print(f\"Cannot reject H0 for Father's Height: Insufficient evidence that coefficient is less than 1 (p = {p_father:.4f})\")\n",
        "if p_mother < alpha:\n",
        "    print(f\"Reject H0 for Mother's Height: Evidence that coefficient is less than 1 (p = {p_mother:.4f})\")\n",
        "else:\n",
        "    print(f\"Cannot reject H0 for Mother's Height: Insufficient evidence that coefficient is less than 1 (p = {p_mother:.4f})\")"
      ],
      "metadata": {
        "colab": {
          "base_uri": "https://localhost:8080/"
        },
        "id": "krasK5n26rES",
        "outputId": "eb291c42-5044-4e9e-a109-d0583bb1553d"
      },
      "execution_count": 12,
      "outputs": [
        {
          "output_type": "stream",
          "name": "stdout",
          "text": [
            "Cannot reject H0 for Father's Height: Insufficient evidence that coefficient is less than 1 (p = 0.9905)\n",
            "Cannot reject H0 for Mother's Height: Insufficient evidence that coefficient is less than 1 (p = 0.9638)\n"
          ]
        }
      ]
    },
    {
      "cell_type": "code",
      "source": [
        "# (d) Plot residuals\n",
        "residuals = model.resid\n",
        "fitted_values = model.fittedvalues\n",
        "# Residual plots\n",
        "plt.figure(figsize=(15, 10))\n",
        "# Residuals vs Fitted Values\n",
        "plt.subplot(2, 2, 1)\n",
        "sns.scatterplot(x=fitted_values, y=residuals)\n",
        "plt.axhline(y=0, color='r', linestyle='-')\n",
        "plt.title('Residuals vs Fitted Values')\n",
        "plt.xlabel('Fitted Son\\'s Height (inches)')\n",
        "plt.ylabel('Residuals')\n"
      ],
      "metadata": {
        "colab": {
          "base_uri": "https://localhost:8080/",
          "height": 469
        },
        "id": "_2pEk8DH61SI",
        "outputId": "933df6e9-0505-4b6e-d22d-1a016f5a0183"
      },
      "execution_count": 13,
      "outputs": [
        {
          "output_type": "execute_result",
          "data": {
            "text/plain": [
              "Text(0, 0.5, 'Residuals')"
            ]
          },
          "metadata": {},
          "execution_count": 13
        },
        {
          "output_type": "display_data",
          "data": {
            "text/plain": [
              "<Figure size 1500x1000 with 1 Axes>"
            ],
            "image/png": "[encoded data removed]"
          },
          "metadata": {}
        }
      ]
    },
    {
      "cell_type": "code",
      "source": [
        "# (e) Comment on the implications of your results.\n",
        "# Calculate average heights\n",
        "avg_father = np.mean(df['Father_Height'])\n",
        "avg_mother = np.mean(df['Mother_Height'])\n",
        "avg_son = np.mean(df['Son_Height'])\n",
        "# Short parents\n",
        "short_father = 62\n",
        "short_mother = 62\n",
        "short_parents_prediction = model.params[0] + model.params[1] * short_father + model.params[2] * short_mother\n",
        "print(f\"For short parents (Father: {short_father}in, Mother: {short_mother}in):\")\n",
        "print(f\"Predicted Son's Height: {short_parents_prediction:.2f} inches\")\n",
        "print(f\"Difference from average son: {short_parents_prediction - avg_son:.2f} inches\")\n"
      ],
      "metadata": {
        "colab": {
          "base_uri": "https://localhost:8080/"
        },
        "id": "MxW5q05m7hQL",
        "outputId": "52bea8d6-e652-41a0-8284-d68897a88e11"
      },
      "execution_count": 14,
      "outputs": [
        {
          "output_type": "stream",
          "name": "stdout",
          "text": [
            "For short parents (Father: 62in, Mother: 62in):\n",
            "Predicted Son's Height: 64.68 inches\n",
            "Difference from average son: -2.33 inches\n"
          ]
        },
        {
          "output_type": "stream",
          "name": "stderr",
          "text": [
            "<ipython-input-14-b2c74f0a5b5d>:9: FutureWarning: Series.__getitem__ treating keys as positions is deprecated. In a future version, integer keys will always be treated as labels (consistent with DataFrame behavior). To access a value by position, use `ser.iloc[pos]`\n",
            "  short_parents_prediction = model.params[0] + model.params[1] * short_father + model.params[2] * short_mother\n"
          ]
        }
      ]
    },
    {
      "cell_type": "code",
      "source": [
        "# Average parents\n",
        "avg_parents_prediction = model.params[0] + model.params[1] * avg_father + model.params[2] * avg_mother\n",
        "print(f\"For average parents (Father: {avg_father:.2f}in, Mother: {avg_mother:.2f}in):\")\n",
        "print(f\"Predicted Son's Height: {avg_parents_prediction:.2f} inches\")\n",
        "# Tall parents\n",
        "tall_father = 72\n",
        "tall_mother = 68\n",
        "tall_parents_prediction = model.params[0] + model.params[1] * tall_father + model.params[2] * tall_mother\n",
        "print(f\"For tall parents (Father: {tall_father}in, Mother: {tall_mother}in):\")\n",
        "print(f\"Predicted Son's Height: {tall_parents_prediction:.2f} inches\")\n",
        "print(f\"Difference from average son: {tall_parents_prediction - avg_son:.2f} inches\")"
      ],
      "metadata": {
        "colab": {
          "base_uri": "https://localhost:8080/"
        },
        "id": "wwJ-0NCS7uGx",
        "outputId": "65543e25-f831-4b9d-a0c0-5d15415627fe"
      },
      "execution_count": 15,
      "outputs": [
        {
          "output_type": "stream",
          "name": "stdout",
          "text": [
            "For average parents (Father: 66.80in, Mother: 65.20in):\n",
            "Predicted Son's Height: 67.01 inches\n",
            "For tall parents (Father: 72in, Mother: 68in):\n",
            "Predicted Son's Height: 69.40 inches\n",
            "Difference from average son: 2.39 inches\n"
          ]
        },
        {
          "output_type": "stream",
          "name": "stderr",
          "text": [
            "<ipython-input-15-6c14b714ec2a>:2: FutureWarning: Series.__getitem__ treating keys as positions is deprecated. In a future version, integer keys will always be treated as labels (consistent with DataFrame behavior). To access a value by position, use `ser.iloc[pos]`\n",
            "  avg_parents_prediction = model.params[0] + model.params[1] * avg_father + model.params[2] * avg_mother\n",
            "<ipython-input-15-6c14b714ec2a>:8: FutureWarning: Series.__getitem__ treating keys as positions is deprecated. In a future version, integer keys will always be treated as labels (consistent with DataFrame behavior). To access a value by position, use `ser.iloc[pos]`\n",
            "  tall_parents_prediction = model.params[0] + model.params[1] * tall_father + model.params[2] * tall_mother\n"
          ]
        }
      ]
    },
    {
      "cell_type": "code",
      "source": [
        "# Calculate regression to the mean\n",
        "print(\"Regression Toward the Mean Analysis:\")\n",
        "midpoint_height = (avg_father + avg_mother) / 2\n",
        "print(f\"Midpoint of average parent heights: {midpoint_height:.2f} inches\")\n",
        "# For each family, calculate how much closer the son is to the average compared to parents\n",
        "print(\"\\nFor each family, showing regression toward the mean:\")\n",
        "df['Parents_Avg'] = (df['Father_Height'] + df['Mother_Height']) / 2\n",
        "df['Parents_Deviation'] = df['Parents_Avg'] - midpoint_height\n",
        "df['Son_Deviation'] = df['Son_Height'] - avg_son\n",
        "df['Regression_Ratio'] = df['Son_Deviation'] / df['Parents_Deviation']\n",
        "\n",
        "print(df[['Father_Height', 'Mother_Height', 'Parents_Avg', 'Parents_Deviation',\n",
        "          'Son_Height', 'Son_Deviation', 'Regression_Ratio']])\n",
        "\n",
        "avg_regression_ratio = np.mean(df['Regression_Ratio'])\n",
        "print(f\"\\nAverage Regression Ratio: {avg_regression_ratio:.4f}\")\n",
        "print(f\"This means on average, a son's deviation from mean height is about {avg_regression_ratio:.2%} of their parents' deviation\")"
      ],
      "metadata": {
        "colab": {
          "base_uri": "https://localhost:8080/"
        },
        "id": "E6QivBLm71lK",
        "outputId": "0d1ab47a-82d8-4080-9ae3-d85ed26be81a"
      },
      "execution_count": 16,
      "outputs": [
        {
          "output_type": "stream",
          "name": "stdout",
          "text": [
            "Regression Toward the Mean Analysis:\n",
            "Midpoint of average parent heights: 66.00 inches\n",
            "\n",
            "For each family, showing regression toward the mean:\n",
            "   Father_Height  Mother_Height  Parents_Avg  Parents_Deviation  Son_Height  \\\n",
            "0             60             61         60.5               -5.5        63.6   \n",
            "1             62             63         62.5               -3.5        65.2   \n",
            "2             64             63         63.5               -2.5        66.0   \n",
            "3             65             64         64.5               -1.5        65.5   \n",
            "4             66             65         65.5               -0.5        66.9   \n",
            "5             67             66         66.5                0.5        67.1   \n",
            "6             68             66         67.0                1.0        67.4   \n",
            "7             70             67         68.5                2.5        68.3   \n",
            "8             72             68         70.0                4.0        70.1   \n",
            "9             74             69         71.5                5.5        70.0   \n",
            "\n",
            "   Son_Deviation  Regression_Ratio  \n",
            "0          -3.41          0.620000  \n",
            "1          -1.81          0.517143  \n",
            "2          -1.01          0.404000  \n",
            "3          -1.51          1.006667  \n",
            "4          -0.11          0.220000  \n",
            "5           0.09          0.180000  \n",
            "6           0.39          0.390000  \n",
            "7           1.29          0.516000  \n",
            "8           3.09          0.772500  \n",
            "9           2.99          0.543636  \n",
            "\n",
            "Average Regression Ratio: 0.5170\n",
            "This means on average, a son's deviation from mean height is about 51.70% of their parents' deviation\n"
          ]
        }
      ]
    },
    {
      "cell_type": "code",
      "source": [],
      "metadata": {
        "id": "Ax9dH-tI8TXm"
      },
      "execution_count": 16,
      "outputs": []
    }
  ]
}