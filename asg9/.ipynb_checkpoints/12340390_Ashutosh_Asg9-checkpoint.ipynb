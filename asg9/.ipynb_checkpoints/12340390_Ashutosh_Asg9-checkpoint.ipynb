{
  "nbformat": 4,
  "nbformat_minor": 0,
  "metadata": {
    "colab": {
      "provenance": []
    },
    "kernelspec": {
      "name": "python3",
      "display_name": "Python 3"
    },
    "language_info": {
      "name": "python"
    }
  },
  "cells": [
    {
      "cell_type": "code",
      "execution_count": 413,
      "metadata": {
        "id": "mvsOLlnQaidm"
      },
      "outputs": [],
      "source": [
        "import pandas as pd\n",
        "import numpy as np\n",
        "import matplotlib.pyplot as plt\n",
        "import seaborn as sns\n",
        "import statsmodels.api as sm\n",
        "from statsmodels.formula.api import ols\n",
        "from scipy import stats"
      ]
    },
    {
      "cell_type": "markdown",
      "source": [
        "## Question 1\n"
      ],
      "metadata": {
        "id": "1EwsyBblbdxR"
      }
    },
    {
      "cell_type": "code",
      "source": [
        "# Create the dataset from the provided table\n",
        "data = {\n",
        "    'Vehicle': list(range(1, 21)),\n",
        "    'Engine_Size': [1.6, 2.0, 2.4, 1.8, 2.2, 3.0, 2.0, 1.5, 2.5, 3.2, 1.4, 2.1, 3.5, 1.6, 2.3, 2.8, 2.6, 1.3, 3.1, 1.7],\n",
        "    'Weight': [1200, 1300, 1500, 1250, 1400, 1600, 1350, 1100, 1550, 1650, 1050, 1380, 1700, 1150, 1450, 1580, 1520, 1020, 1620, 1180],\n",
        "    'Horsepower': [110, 130, 150, 115, 140, 180, 135, 105, 160, 190, 100, 138, 200, 108, 145, 170, 155, 98, 185, 112],\n",
        "    'MPG': [34, 30, 27, 32, 28, 22, 29, 36, 25, 20, 38, 28, 18, 35, 26, 23, 24, 39, 21, 33]\n",
        "}"
      ],
      "metadata": {
        "id": "RXolA0-_bfv3"
      },
      "execution_count": 414,
      "outputs": []
    },
    {
      "cell_type": "code",
      "source": [
        "df = pd.DataFrame(data)"
      ],
      "metadata": {
        "id": "o7_eXff9bf8Y"
      },
      "execution_count": 415,
      "outputs": []
    },
    {
      "cell_type": "code",
      "source": [
        "# Prepare data for regression\n",
        "X = df[['Engine_Size', 'Weight', 'Horsepower']]\n",
        "y = df['MPG']"
      ],
      "metadata": {
        "id": "OCIvGiKAcBmW"
      },
      "execution_count": 416,
      "outputs": []
    },
    {
      "cell_type": "code",
      "source": [
        "# (a) Fit multiple linear regression model\n",
        "# Adding a constant for the intercept\n",
        "X_with_const = sm.add_constant(X)\n",
        "model = sm.OLS(y, X_with_const).fit()"
      ],
      "metadata": {
        "id": "5oIbGxLzcDKA"
      },
      "execution_count": 417,
      "outputs": []
    },
    {
      "cell_type": "code",
      "source": [
        "# (b) Corresponding Regression Equation\n",
        "print(\"\\nRegression Equation:\")\n",
        "equation = f\"MPG = {model.params[0]:.4f}\"\n",
        "for i, col in enumerate(X.columns):\n",
        "    if model.params[i+1] >= 0:\n",
        "        equation += f\" + {model.params[i+1]:.4f} × {col}\"\n",
        "    else:\n",
        "        equation += f\" {model.params[i+1]:.4f} × {col}\"\n",
        "print(equation)"
      ],
      "metadata": {
        "colab": {
          "base_uri": "https://localhost:8080/"
        },
        "id": "-FzmCbt22B5T",
        "outputId": "d2b2e831-61d9-44eb-e080-c10436d601bb"
      },
      "execution_count": 418,
      "outputs": [
        {
          "output_type": "stream",
          "name": "stdout",
          "text": [
            "\n",
            "Regression Equation:\n",
            "MPG = 61.0782 -5.4978 × Engine_Size -0.0204 × Weight + 0.0545 × Horsepower\n"
          ]
        },
        {
          "output_type": "stream",
          "name": "stderr",
          "text": [
            "<ipython-input-418-be76f0123c90>:3: FutureWarning: Series.__getitem__ treating keys as positions is deprecated. In a future version, integer keys will always be treated as labels (consistent with DataFrame behavior). To access a value by position, use `ser.iloc[pos]`\n",
            "  equation = f\"MPG = {model.params[0]:.4f}\"\n",
            "<ipython-input-418-be76f0123c90>:5: FutureWarning: Series.__getitem__ treating keys as positions is deprecated. In a future version, integer keys will always be treated as labels (consistent with DataFrame behavior). To access a value by position, use `ser.iloc[pos]`\n",
            "  if model.params[i+1] >= 0:\n",
            "<ipython-input-418-be76f0123c90>:8: FutureWarning: Series.__getitem__ treating keys as positions is deprecated. In a future version, integer keys will always be treated as labels (consistent with DataFrame behavior). To access a value by position, use `ser.iloc[pos]`\n",
            "  equation += f\" {model.params[i+1]:.4f} × {col}\"\n",
            "<ipython-input-418-be76f0123c90>:6: FutureWarning: Series.__getitem__ treating keys as positions is deprecated. In a future version, integer keys will always be treated as labels (consistent with DataFrame behavior). To access a value by position, use `ser.iloc[pos]`\n",
            "  equation += f\" + {model.params[i+1]:.4f} × {col}\"\n"
          ]
        }
      ]
    },
    {
      "cell_type": "code",
      "source": [
        "# (c)\n",
        "# 1. Coefficients and intercept\n",
        "print(\"Coefficients and Intercept:\")\n",
        "print(f\"Intercept: {model.params[0]}\")\n",
        "print(f\"Engine Size Coefficient: {model.params[1]}\")\n",
        "print(f\"Weight Coefficient: {model.params[2]}\")\n",
        "print(f\"Horsepower Coefficient: {model.params[3]}\")"
      ],
      "metadata": {
        "colab": {
          "base_uri": "https://localhost:8080/"
        },
        "id": "ce1wNdwNcIKQ",
        "outputId": "a4a26023-1f48-45d7-bed4-5d0bf9aa4616"
      },
      "execution_count": 419,
      "outputs": [
        {
          "output_type": "stream",
          "name": "stdout",
          "text": [
            "Coefficients and Intercept:\n",
            "Intercept: 61.0781743808722\n",
            "Engine Size Coefficient: -5.497849497990185\n",
            "Weight Coefficient: -0.020411564881137337\n",
            "Horsepower Coefficient: 0.05448662861574405\n"
          ]
        },
        {
          "output_type": "stream",
          "name": "stderr",
          "text": [
            "<ipython-input-419-263b143bf5a5>:4: FutureWarning: Series.__getitem__ treating keys as positions is deprecated. In a future version, integer keys will always be treated as labels (consistent with DataFrame behavior). To access a value by position, use `ser.iloc[pos]`\n",
            "  print(f\"Intercept: {model.params[0]}\")\n",
            "<ipython-input-419-263b143bf5a5>:5: FutureWarning: Series.__getitem__ treating keys as positions is deprecated. In a future version, integer keys will always be treated as labels (consistent with DataFrame behavior). To access a value by position, use `ser.iloc[pos]`\n",
            "  print(f\"Engine Size Coefficient: {model.params[1]}\")\n",
            "<ipython-input-419-263b143bf5a5>:6: FutureWarning: Series.__getitem__ treating keys as positions is deprecated. In a future version, integer keys will always be treated as labels (consistent with DataFrame behavior). To access a value by position, use `ser.iloc[pos]`\n",
            "  print(f\"Weight Coefficient: {model.params[2]}\")\n",
            "<ipython-input-419-263b143bf5a5>:7: FutureWarning: Series.__getitem__ treating keys as positions is deprecated. In a future version, integer keys will always be treated as labels (consistent with DataFrame behavior). To access a value by position, use `ser.iloc[pos]`\n",
            "  print(f\"Horsepower Coefficient: {model.params[3]}\")\n"
          ]
        }
      ]
    },
    {
      "cell_type": "code",
      "source": [
        "# 2. p-values\n",
        "print(\"p-values:\")\n",
        "print(f\"Engine Size p-value: {model.pvalues[1]}\")\n",
        "print(f\"Weight p-value: {model.pvalues[2]}\")\n",
        "print(f\"Horsepower p-value: {model.pvalues[3]}\")"
      ],
      "metadata": {
        "colab": {
          "base_uri": "https://localhost:8080/"
        },
        "id": "vAAb8RBScL3F",
        "outputId": "f7d0d5b8-ea91-4020-aa45-967d588df512"
      },
      "execution_count": 420,
      "outputs": [
        {
          "output_type": "stream",
          "name": "stdout",
          "text": [
            "p-values:\n",
            "Engine Size p-value: 0.05415802519190138\n",
            "Weight p-value: 2.295491765418466e-05\n",
            "Horsepower p-value: 0.3636529069488814\n"
          ]
        },
        {
          "output_type": "stream",
          "name": "stderr",
          "text": [
            "<ipython-input-420-928e88922af6>:3: FutureWarning: Series.__getitem__ treating keys as positions is deprecated. In a future version, integer keys will always be treated as labels (consistent with DataFrame behavior). To access a value by position, use `ser.iloc[pos]`\n",
            "  print(f\"Engine Size p-value: {model.pvalues[1]}\")\n",
            "<ipython-input-420-928e88922af6>:4: FutureWarning: Series.__getitem__ treating keys as positions is deprecated. In a future version, integer keys will always be treated as labels (consistent with DataFrame behavior). To access a value by position, use `ser.iloc[pos]`\n",
            "  print(f\"Weight p-value: {model.pvalues[2]}\")\n",
            "<ipython-input-420-928e88922af6>:5: FutureWarning: Series.__getitem__ treating keys as positions is deprecated. In a future version, integer keys will always be treated as labels (consistent with DataFrame behavior). To access a value by position, use `ser.iloc[pos]`\n",
            "  print(f\"Horsepower p-value: {model.pvalues[3]}\")\n"
          ]
        }
      ]
    },
    {
      "cell_type": "code",
      "source": [
        "# 3. R-squared value\n",
        "print(f\"R-squared: {model.rsquared}\")\n",
        "print(f\"Adjusted R-squared: {model.rsquared_adj}\")"
      ],
      "metadata": {
        "colab": {
          "base_uri": "https://localhost:8080/"
        },
        "id": "24yTZb0scN1T",
        "outputId": "65dc8aa6-3952-45a7-d2a3-330ab8991819"
      },
      "execution_count": 421,
      "outputs": [
        {
          "output_type": "stream",
          "name": "stdout",
          "text": [
            "R-squared: 0.9903776795531836\n",
            "Adjusted R-squared: 0.9885734944694055\n"
          ]
        }
      ]
    },
    {
      "cell_type": "code",
      "source": [
        "# 4. Plotting of residual values\n",
        "residuals = model.resid\n",
        "fitted_values = model.fittedvalues"
      ],
      "metadata": {
        "id": "LHubZiSV2osk"
      },
      "execution_count": 422,
      "outputs": []
    },
    {
      "cell_type": "code",
      "source": [
        "plt.figure(figsize=(15, 10))"
      ],
      "metadata": {
        "colab": {
          "base_uri": "https://localhost:8080/",
          "height": 52
        },
        "id": "lwrCpdtH20Y2",
        "outputId": "56a55058-eaf1-4a4e-a9a3-652b63a7c070"
      },
      "execution_count": 423,
      "outputs": [
        {
          "output_type": "execute_result",
          "data": {
            "text/plain": [
              "<Figure size 1500x1000 with 0 Axes>"
            ]
          },
          "metadata": {},
          "execution_count": 423
        },
        {
          "output_type": "display_data",
          "data": {
            "text/plain": [
              "<Figure size 1500x1000 with 0 Axes>"
            ]
          },
          "metadata": {}
        }
      ]
    },
    {
      "cell_type": "code",
      "source": [
        "# Residuals vs Fitted Values\n",
        "plt.subplot(2, 2, 1)\n",
        "sns.scatterplot(x=fitted_values, y=residuals)\n",
        "plt.axhline(y=0, color='r', linestyle='-')\n",
        "plt.title('Residuals vs Fitted Values')\n",
        "plt.xlabel('Fitted Values')\n",
        "plt.ylabel('Residuals')"
      ],
      "metadata": {
        "colab": {
          "base_uri": "https://localhost:8080/",
          "height": 287
        },
        "id": "V5mOKo7q24OZ",
        "outputId": "a7d50289-cfa0-422f-a88b-57ee0f43f4f2"
      },
      "execution_count": 424,
      "outputs": [
        {
          "output_type": "execute_result",
          "data": {
            "text/plain": [
              "Text(0, 0.5, 'Residuals')"
            ]
          },
          "metadata": {},
          "execution_count": 424
        },
        {
          "output_type": "display_data",
          "data": {
            "text/plain": [
              "<Figure size 640x480 with 1 Axes>"
            ],
            "image/png": "[encoded data removed]"
          },
          "metadata": {}
        }
      ]
    },
    {
      "cell_type": "code",
      "source": [
        "# Residual Histogram\n",
        "plt.subplot(2, 2, 2)\n",
        "sns.histplot(residuals, kde=True)\n",
        "plt.title('Residual Histogram')\n",
        "plt.xlabel('Residuals')"
      ],
      "metadata": {
        "colab": {
          "base_uri": "https://localhost:8080/",
          "height": 287
        },
        "id": "t6fz4vET26LL",
        "outputId": "3b81aca9-090a-42fe-fb72-3827f5fa0d5c"
      },
      "execution_count": 425,
      "outputs": [
        {
          "output_type": "execute_result",
          "data": {
            "text/plain": [
              "Text(0.5, 0, 'Residuals')"
            ]
          },
          "metadata": {},
          "execution_count": 425
        },
        {
          "output_type": "display_data",
          "data": {
            "text/plain": [
              "<Figure size 640x480 with 1 Axes>"
            ],
            "image/png": "[encoded data removed]"
          },
          "metadata": {}
        }
      ]
    },
    {
      "cell_type": "code",
      "source": [
        "# Q-Q Plot\n",
        "plt.subplot(2, 2, 3)\n",
        "sm.qqplot(residuals, line='45', fit=True, ax=plt.gca())\n",
        "plt.title('Q-Q Plot')"
      ],
      "metadata": {
        "colab": {
          "base_uri": "https://localhost:8080/",
          "height": 287
        },
        "id": "lQ2Go43Y28tP",
        "outputId": "085d9fa2-5fd9-40f6-f183-25773440011c"
      },
      "execution_count": 426,
      "outputs": [
        {
          "output_type": "execute_result",
          "data": {
            "text/plain": [
              "Text(0.5, 1.0, 'Q-Q Plot')"
            ]
          },
          "metadata": {},
          "execution_count": 426
        },
        {
          "output_type": "display_data",
          "data": {
            "text/plain": [
              "<Figure size 640x480 with 1 Axes>"
            ],
            "image/png": "[encoded data removed]"
          },
          "metadata": {}
        }
      ]
    },
    {
      "cell_type": "code",
      "source": [
        "# Residuals vs Leverage Plot\n",
        "plt.subplot(2, 2, 4)\n",
        "sm.graphics.influence_plot(model, ax=plt.gca())\n",
        "plt.title('Residuals vs Leverage')"
      ],
      "metadata": {
        "colab": {
          "base_uri": "https://localhost:8080/",
          "height": 325
        },
        "id": "K2Ox8bpC3AQL",
        "outputId": "5e05faf2-3421-4c9e-f5c2-c6d857a138db"
      },
      "execution_count": 427,
      "outputs": [
        {
          "output_type": "execute_result",
          "data": {
            "text/plain": [
              "Text(0.5, 1.0, 'Residuals vs Leverage')"
            ]
          },
          "metadata": {},
          "execution_count": 427
        },
        {
          "output_type": "display_data",
          "data": {
            "text/plain": [
              "<Figure size 640x480 with 1 Axes>"
            ],
            "image/png": "[encoded data removed]"
          },
          "metadata": {}
        }
      ]
    },
    {
      "cell_type": "code",
      "source": [
        "plt.tight_layout()\n",
        "plt.savefig('residual_plots.png')"
      ],
      "metadata": {
        "colab": {
          "base_uri": "https://localhost:8080/",
          "height": 34
        },
        "id": "c2iPTxJg3EVq",
        "outputId": "3cdff947-b32d-44b6-93dc-a529a917ad62"
      },
      "execution_count": 428,
      "outputs": [
        {
          "output_type": "display_data",
          "data": {
            "text/plain": [
              "<Figure size 640x480 with 0 Axes>"
            ]
          },
          "metadata": {}
        }
      ]
    },
    {
      "cell_type": "code",
      "source": [
        "# 5. Hypothesis Testing for each predictor\n",
        "alpha = 0.01\n",
        "for var_name, p_value in zip(['Engine_Size', 'Weight', 'Horsepower'], model.pvalues[1:]):\n",
        "        if p_value < alpha:\n",
        "            print(f\"  {var_name} is statistically significant (p-value: {p_value:.4f} < {alpha})\")\n",
        "        else:\n",
        "            print(f\"  {var_name} is NOT statistically significant (p-value: {p_value:.4f} > {alpha})\")"
      ],
      "metadata": {
        "colab": {
          "base_uri": "https://localhost:8080/"
        },
        "id": "he2mLdi13Rzp",
        "outputId": "ad3da08c-0c3c-47cf-f8f8-dc5f8b853a04"
      },
      "execution_count": 429,
      "outputs": [
        {
          "output_type": "stream",
          "name": "stdout",
          "text": [
            "  Engine_Size is NOT statistically significant (p-value: 0.0542 > 0.01)\n",
            "  Weight is statistically significant (p-value: 0.0000 < 0.01)\n",
            "  Horsepower is NOT statistically significant (p-value: 0.3637 > 0.01)\n"
          ]
        }
      ]
    },
    {
      "cell_type": "code",
      "source": [
        "# (d and e) Show the results for different levels of significance.\n",
        "significance_levels = [0.01, 0.05, 0.1]\n",
        "print(\"Results for different significance levels:\")\n",
        "for alpha in significance_levels:\n",
        "    print(f\"\\nAt significance level α = {alpha}:\")\n",
        "    for var_name, p_value in zip(['Engine_Size', 'Weight', 'Horsepower'], model.pvalues[1:]):\n",
        "        if p_value < alpha:\n",
        "            print(f\"  {var_name} is statistically significant (p-value: {p_value:.4f} < {alpha})\")\n",
        "        else:\n",
        "            print(f\"  {var_name} is NOT statistically significant (p-value: {p_value:.4f} > {alpha})\")"
      ],
      "metadata": {
        "colab": {
          "base_uri": "https://localhost:8080/"
        },
        "id": "PoYxp94g3ovE",
        "outputId": "47f935e7-f97c-4618-9f2a-e692fcb69377"
      },
      "execution_count": 430,
      "outputs": [
        {
          "output_type": "stream",
          "name": "stdout",
          "text": [
            "Results for different significance levels:\n",
            "\n",
            "At significance level α = 0.01:\n",
            "  Engine_Size is NOT statistically significant (p-value: 0.0542 > 0.01)\n",
            "  Weight is statistically significant (p-value: 0.0000 < 0.01)\n",
            "  Horsepower is NOT statistically significant (p-value: 0.3637 > 0.01)\n",
            "\n",
            "At significance level α = 0.05:\n",
            "  Engine_Size is NOT statistically significant (p-value: 0.0542 > 0.05)\n",
            "  Weight is statistically significant (p-value: 0.0000 < 0.05)\n",
            "  Horsepower is NOT statistically significant (p-value: 0.3637 > 0.05)\n",
            "\n",
            "At significance level α = 0.1:\n",
            "  Engine_Size is statistically significant (p-value: 0.0542 < 0.1)\n",
            "  Weight is statistically significant (p-value: 0.0000 < 0.1)\n",
            "  Horsepower is NOT statistically significant (p-value: 0.3637 > 0.1)\n"
          ]
        }
      ]
    },
    {
      "cell_type": "markdown",
      "source": [
        "## Question 2"
      ],
      "metadata": {
        "id": "V7PgQdqwbg79"
      }
    },
    {
      "cell_type": "code",
      "source": [
        "# Create the dataset from the provided table\n",
        "data = {\n",
        "    'Father_Height': [60, 62, 64, 65, 66, 67, 68, 70, 72, 74],\n",
        "    'Mother_Height': [61, 63, 63, 64, 65, 66, 66, 67, 68, 69],\n",
        "    'Son_Height': [63.6, 65.2, 66.0, 65.5, 66.9, 67.1, 67.4, 68.3, 70.1, 70.0]\n",
        "}"
      ],
      "metadata": {
        "id": "pB9hWOiBbi_C"
      },
      "execution_count": 431,
      "outputs": []
    },
    {
      "cell_type": "code",
      "source": [
        "df = pd.DataFrame(data)"
      ],
      "metadata": {
        "id": "LmKjVx7QbjBm"
      },
      "execution_count": 432,
      "outputs": []
    },
    {
      "cell_type": "code",
      "source": [
        "# (a) Fit multiple linear regression model\n",
        "X = df[['Father_Height', 'Mother_Height']]\n",
        "X = sm.add_constant(X)  # Add intercept\n",
        "y = df['Son_Height']"
      ],
      "metadata": {
        "id": "yXTbBxzRbjEL"
      },
      "execution_count": 433,
      "outputs": []
    },
    {
      "cell_type": "code",
      "source": [
        "model = sm.OLS(y, X).fit()"
      ],
      "metadata": {
        "id": "kh6GTCCR7656"
      },
      "execution_count": 434,
      "outputs": []
    },
    {
      "cell_type": "code",
      "source": [
        "# Create regression equation\n",
        "equation = f\"Son's Height = {model.params[0]:.4f} + {model.params[1]:.4f} × Father's Height + {model.params[2]:.4f} × Mother's Height\"\n",
        "print(f\"Regression Equation:\")\n",
        "print(equation)"
      ],
      "metadata": {
        "colab": {
          "base_uri": "https://localhost:8080/"
        },
        "id": "Wot8KFIB-zFy",
        "outputId": "5dad46b4-17fb-4060-aaa3-b036831cc8bb"
      },
      "execution_count": 435,
      "outputs": [
        {
          "output_type": "stream",
          "name": "stdout",
          "text": [
            "Regression Equation:\n",
            "Son's Height = 30.3171 + 0.3497 × Father's Height + 0.2045 × Mother's Height\n"
          ]
        },
        {
          "output_type": "stream",
          "name": "stderr",
          "text": [
            "<ipython-input-435-a6ada5f8cb04>:2: FutureWarning: Series.__getitem__ treating keys as positions is deprecated. In a future version, integer keys will always be treated as labels (consistent with DataFrame behavior). To access a value by position, use `ser.iloc[pos]`\n",
            "  equation = f\"Son's Height = {model.params[0]:.4f} + {model.params[1]:.4f} × Father's Height + {model.params[2]:.4f} × Mother's Height\"\n"
          ]
        }
      ]
    },
    {
      "cell_type": "code",
      "source": [
        "print(\"Regression Summary:\")\n",
        "print(model.summary())"
      ],
      "metadata": {
        "colab": {
          "base_uri": "https://localhost:8080/"
        },
        "id": "bCwjMHk979ji",
        "outputId": "3f972814-e01c-4b07-eb3e-eabd5c5396be"
      },
      "execution_count": 436,
      "outputs": [
        {
          "output_type": "stream",
          "name": "stdout",
          "text": [
            "Regression Summary:\n",
            "                            OLS Regression Results                            \n",
            "==============================================================================\n",
            "Dep. Variable:             Son_Height   R-squared:                       0.963\n",
            "Model:                            OLS   Adj. R-squared:                  0.952\n",
            "Method:                 Least Squares   F-statistic:                     90.60\n",
            "Date:                Thu, 17 Apr 2025   Prob (F-statistic):           9.93e-06\n",
            "Time:                        13:50:29   Log-Likelihood:                -4.4758\n",
            "No. Observations:                  10   AIC:                             14.95\n",
            "Df Residuals:                       7   BIC:                             15.86\n",
            "Df Model:                           2                                         \n",
            "Covariance Type:            nonrobust                                         \n",
            "=================================================================================\n",
            "                    coef    std err          t      P>|t|      [0.025      0.975]\n",
            "---------------------------------------------------------------------------------\n",
            "const            30.3171     10.669      2.842      0.025       5.088      55.546\n",
            "Father_Height     0.3497      0.214      1.632      0.147      -0.157       0.856\n",
            "Mother_Height     0.2045      0.376      0.543      0.604      -0.685       1.095\n",
            "==============================================================================\n",
            "Omnibus:                        0.261   Durbin-Watson:                   2.803\n",
            "Prob(Omnibus):                  0.878   Jarque-Bera (JB):                0.375\n",
            "Skew:                           0.275   Prob(JB):                        0.829\n",
            "Kurtosis:                       2.227   Cond. No.                     6.97e+03\n",
            "==============================================================================\n",
            "\n",
            "Notes:\n",
            "[1] Standard Errors assume that the covariance matrix of the errors is correctly specified.\n",
            "[2] The condition number is large, 6.97e+03. This might indicate that there are\n",
            "strong multicollinearity or other numerical problems.\n"
          ]
        },
        {
          "output_type": "stream",
          "name": "stderr",
          "text": [
            "/usr/local/lib/python3.11/dist-packages/scipy/stats/_axis_nan_policy.py:418: UserWarning: `kurtosistest` p-value may be inaccurate with fewer than 20 observations; only n=10 observations were given.\n",
            "  return hypotest_fun_in(*args, **kwds)\n"
          ]
        }
      ]
    },
    {
      "cell_type": "code",
      "source": [
        "# (b) Interpret regression coefficients\n",
        "print(\"Regression Coefficients:\")\n",
        "print(f\"Intercept: {model.params[0]:.4f}\")\n",
        "print(f\"Father's Height Coefficient: {model.params[1]:.4f}\")\n",
        "print(f\"Mother's Height Coefficient: {model.params[2]:.4f}\")"
      ],
      "metadata": {
        "colab": {
          "base_uri": "https://localhost:8080/"
        },
        "id": "z8TD2cpg8Goh",
        "outputId": "8323d4f1-1e18-48cd-a94c-8d27fb29071f"
      },
      "execution_count": 437,
      "outputs": [
        {
          "output_type": "stream",
          "name": "stdout",
          "text": [
            "Regression Coefficients:\n",
            "Intercept: 30.3171\n",
            "Father's Height Coefficient: 0.3497\n",
            "Mother's Height Coefficient: 0.2045\n"
          ]
        },
        {
          "output_type": "stream",
          "name": "stderr",
          "text": [
            "<ipython-input-437-9098e9add4d0>:3: FutureWarning: Series.__getitem__ treating keys as positions is deprecated. In a future version, integer keys will always be treated as labels (consistent with DataFrame behavior). To access a value by position, use `ser.iloc[pos]`\n",
            "  print(f\"Intercept: {model.params[0]:.4f}\")\n",
            "<ipython-input-437-9098e9add4d0>:4: FutureWarning: Series.__getitem__ treating keys as positions is deprecated. In a future version, integer keys will always be treated as labels (consistent with DataFrame behavior). To access a value by position, use `ser.iloc[pos]`\n",
            "  print(f\"Father's Height Coefficient: {model.params[1]:.4f}\")\n",
            "<ipython-input-437-9098e9add4d0>:5: FutureWarning: Series.__getitem__ treating keys as positions is deprecated. In a future version, integer keys will always be treated as labels (consistent with DataFrame behavior). To access a value by position, use `ser.iloc[pos]`\n",
            "  print(f\"Mother's Height Coefficient: {model.params[2]:.4f}\")\n"
          ]
        }
      ]
    },
    {
      "cell_type": "code",
      "source": [
        "# (c) Test for regression toward the mean\n",
        "# For Father's height coefficient\n",
        "t_father = (model.params[1] - 1) / model.bse[1]\n",
        "p_father = 1 - stats.t.cdf(t_father, df=model.df_resid)  # one-tailed test"
      ],
      "metadata": {
        "colab": {
          "base_uri": "https://localhost:8080/"
        },
        "id": "Rup3urGv8Jij",
        "outputId": "d2b201cf-afe5-4963-9f2e-dfdfa6063cb5"
      },
      "execution_count": 438,
      "outputs": [
        {
          "output_type": "stream",
          "name": "stderr",
          "text": [
            "<ipython-input-438-80e83dbdbfa6>:3: FutureWarning: Series.__getitem__ treating keys as positions is deprecated. In a future version, integer keys will always be treated as labels (consistent with DataFrame behavior). To access a value by position, use `ser.iloc[pos]`\n",
            "  t_father = (model.params[1] - 1) / model.bse[1]\n"
          ]
        }
      ]
    },
    {
      "cell_type": "code",
      "source": [
        "# For Mother's height coefficient\n",
        "t_mother = (model.params[2] - 1) / model.bse[2]\n",
        "p_mother = 1 - stats.t.cdf(t_mother, df=model.df_resid)  # one-tailed test"
      ],
      "metadata": {
        "colab": {
          "base_uri": "https://localhost:8080/"
        },
        "id": "3CnyNBwj9Btw",
        "outputId": "085950b9-7a29-4735-fd33-a3f16b2985c8"
      },
      "execution_count": 439,
      "outputs": [
        {
          "output_type": "stream",
          "name": "stderr",
          "text": [
            "<ipython-input-439-94eeb8980a20>:2: FutureWarning: Series.__getitem__ treating keys as positions is deprecated. In a future version, integer keys will always be treated as labels (consistent with DataFrame behavior). To access a value by position, use `ser.iloc[pos]`\n",
            "  t_mother = (model.params[2] - 1) / model.bse[2]\n"
          ]
        }
      ]
    },
    {
      "cell_type": "code",
      "source": [
        "print(f\"H0: Father's Height Coefficient >= 1 vs H1: Father's Height Coefficient < 1\")\n",
        "print(f\"t-statistic: {t_father:.4f}, p-value: {p_father:.4f}\")"
      ],
      "metadata": {
        "colab": {
          "base_uri": "https://localhost:8080/"
        },
        "id": "-2HHQYnE9ELd",
        "outputId": "655a42f7-e681-4cdc-b9cd-297c00f9944d"
      },
      "execution_count": 440,
      "outputs": [
        {
          "output_type": "stream",
          "name": "stdout",
          "text": [
            "H0: Father's Height Coefficient >= 1 vs H1: Father's Height Coefficient < 1\n",
            "t-statistic: -3.0355, p-value: 0.9905\n"
          ]
        }
      ]
    },
    {
      "cell_type": "code",
      "source": [
        "print(f\"H0: Mother's Height Coefficient >= 1 vs H1: Mother's Height Coefficient < 1\")\n",
        "print(f\"t-statistic: {t_mother:.4f}, p-value: {p_mother:.4f}\")"
      ],
      "metadata": {
        "colab": {
          "base_uri": "https://localhost:8080/"
        },
        "id": "guKL5JQr9Hxs",
        "outputId": "c8931e6e-bad4-4368-c185-1a8f18473541"
      },
      "execution_count": 441,
      "outputs": [
        {
          "output_type": "stream",
          "name": "stdout",
          "text": [
            "H0: Mother's Height Coefficient >= 1 vs H1: Mother's Height Coefficient < 1\n",
            "t-statistic: -2.1135, p-value: 0.9638\n"
          ]
        }
      ]
    },
    {
      "cell_type": "code",
      "source": [
        "alpha = 0.05"
      ],
      "metadata": {
        "id": "ig4UI5UQ9Nis"
      },
      "execution_count": 442,
      "outputs": []
    },
    {
      "cell_type": "code",
      "source": [
        "if p_father < alpha:\n",
        "    print(f\"Reject H0 for Father's Height: Evidence that coefficient is less than 1 (p = {p_father:.4f})\")\n",
        "else:\n",
        "    print(f\"Cannot reject H0 for Father's Height: Insufficient evidence that coefficient is less than 1 (p = {p_father:.4f})\")"
      ],
      "metadata": {
        "colab": {
          "base_uri": "https://localhost:8080/"
        },
        "id": "Ihp8kSJn9P6Y",
        "outputId": "f06b93d5-1004-4a60-bf9c-53c8845d1039"
      },
      "execution_count": 443,
      "outputs": [
        {
          "output_type": "stream",
          "name": "stdout",
          "text": [
            "Cannot reject H0 for Father's Height: Insufficient evidence that coefficient is less than 1 (p = 0.9905)\n"
          ]
        }
      ]
    },
    {
      "cell_type": "code",
      "source": [
        "if p_mother < alpha:\n",
        "    print(f\"Reject H0 for Mother's Height: Evidence that coefficient is less than 1 (p = {p_mother:.4f})\")\n",
        "else:\n",
        "    print(f\"Cannot reject H0 for Mother's Height: Insufficient evidence that coefficient is less than 1 (p = {p_mother:.4f})\")"
      ],
      "metadata": {
        "colab": {
          "base_uri": "https://localhost:8080/"
        },
        "id": "3shkG_oR9Q0v",
        "outputId": "45d2b024-0adc-4596-9d24-0ab31c240dd9"
      },
      "execution_count": 444,
      "outputs": [
        {
          "output_type": "stream",
          "name": "stdout",
          "text": [
            "Cannot reject H0 for Mother's Height: Insufficient evidence that coefficient is less than 1 (p = 0.9638)\n"
          ]
        }
      ]
    },
    {
      "cell_type": "code",
      "source": [
        "# Another approach: Confidence Intervals\n",
        "conf_int = model.conf_int(alpha=0.05)\n",
        "print(\"Confidence Intervals (95%):\")\n",
        "print(conf_int)"
      ],
      "metadata": {
        "colab": {
          "base_uri": "https://localhost:8080/"
        },
        "id": "PqdoyIFj8trV",
        "outputId": "48148bc5-f041-43bd-ab50-c6176f060cf0"
      },
      "execution_count": 445,
      "outputs": [
        {
          "output_type": "stream",
          "name": "stdout",
          "text": [
            "Confidence Intervals (95%):\n",
            "                      0          1\n",
            "const          5.088277  55.545917\n",
            "Father_Height -0.156925   0.856280\n",
            "Mother_Height -0.685481   1.094513\n"
          ]
        }
      ]
    },
    {
      "cell_type": "code",
      "source": [
        "# (d) Plot residuals\n",
        "residuals = model.resid\n",
        "fitted_values = model.fittedvalues"
      ],
      "metadata": {
        "id": "W1fpu3Sm8zr4"
      },
      "execution_count": 446,
      "outputs": []
    },
    {
      "cell_type": "code",
      "source": [
        "# Residual plots\n",
        "plt.figure(figsize=(15, 10))"
      ],
      "metadata": {
        "colab": {
          "base_uri": "https://localhost:8080/",
          "height": 52
        },
        "id": "kOiaeU9-81Ex",
        "outputId": "60ec6871-3014-43b4-bd52-da665442a731"
      },
      "execution_count": 447,
      "outputs": [
        {
          "output_type": "execute_result",
          "data": {
            "text/plain": [
              "<Figure size 1500x1000 with 0 Axes>"
            ]
          },
          "metadata": {},
          "execution_count": 447
        },
        {
          "output_type": "display_data",
          "data": {
            "text/plain": [
              "<Figure size 1500x1000 with 0 Axes>"
            ]
          },
          "metadata": {}
        }
      ]
    },
    {
      "cell_type": "code",
      "source": [
        "# Residuals vs Fitted Values\n",
        "plt.subplot(2, 2, 1)\n",
        "sns.scatterplot(x=fitted_values, y=residuals)\n",
        "plt.axhline(y=0, color='r', linestyle='-')\n",
        "plt.title('Residuals vs Fitted Values')\n",
        "plt.xlabel('Fitted Son\\'s Height (inches)')\n",
        "plt.ylabel('Residuals')"
      ],
      "metadata": {
        "colab": {
          "base_uri": "https://localhost:8080/",
          "height": 287
        },
        "id": "MyX0qcbW82r0",
        "outputId": "94e5e755-ddca-42ad-def5-beb0ab042230"
      },
      "execution_count": 448,
      "outputs": [
        {
          "output_type": "execute_result",
          "data": {
            "text/plain": [
              "Text(0, 0.5, 'Residuals')"
            ]
          },
          "metadata": {},
          "execution_count": 448
        },
        {
          "output_type": "display_data",
          "data": {
            "text/plain": [
              "<Figure size 640x480 with 1 Axes>"
            ],
            "image/png": "[encoded data removed]"
          },
          "metadata": {}
        }
      ]
    },
    {
      "cell_type": "code",
      "source": [
        "# Residuals vs Father's Height\n",
        "plt.subplot(2, 2, 2)\n",
        "sns.scatterplot(x=df['Father_Height'], y=residuals)\n",
        "plt.axhline(y=0, color='r', linestyle='-')\n",
        "plt.title('Residuals vs Father\\'s Height')\n",
        "plt.xlabel('Father\\'s Height (inches)')\n",
        "plt.ylabel('Residuals')"
      ],
      "metadata": {
        "colab": {
          "base_uri": "https://localhost:8080/",
          "height": 287
        },
        "id": "ItuUimGr84C1",
        "outputId": "cddf2cf8-1742-468f-8292-1641567bf482"
      },
      "execution_count": 449,
      "outputs": [
        {
          "output_type": "execute_result",
          "data": {
            "text/plain": [
              "Text(0, 0.5, 'Residuals')"
            ]
          },
          "metadata": {},
          "execution_count": 449
        },
        {
          "output_type": "display_data",
          "data": {
            "text/plain": [
              "<Figure size 640x480 with 1 Axes>"
            ],
            "image/png": "[encoded data removed]"
          },
          "metadata": {}
        }
      ]
    },
    {
      "cell_type": "code",
      "source": [
        "# Residuals vs Mother's Height\n",
        "plt.subplot(2, 2, 3)\n",
        "sns.scatterplot(x=df['Mother_Height'], y=residuals)\n",
        "plt.axhline(y=0, color='r', linestyle='-')\n",
        "plt.title('Residuals vs Mother\\'s Height')\n",
        "plt.xlabel('Mother\\'s Height (inches)')\n",
        "plt.ylabel('Residuals')"
      ],
      "metadata": {
        "colab": {
          "base_uri": "https://localhost:8080/",
          "height": 287
        },
        "id": "MCmHyFB2856L",
        "outputId": "4c0ceda8-d2cc-497f-ee3d-5d6bd7b201b3"
      },
      "execution_count": 450,
      "outputs": [
        {
          "output_type": "execute_result",
          "data": {
            "text/plain": [
              "Text(0, 0.5, 'Residuals')"
            ]
          },
          "metadata": {},
          "execution_count": 450
        },
        {
          "output_type": "display_data",
          "data": {
            "text/plain": [
              "<Figure size 640x480 with 1 Axes>"
            ],
            "image/png": "[encoded data removed]"
          },
          "metadata": {}
        }
      ]
    },
    {
      "cell_type": "code",
      "source": [
        "# QQ Plot of Residuals\n",
        "plt.subplot(2, 2, 4)\n",
        "stats.probplot(residuals, dist=\"norm\", plot=plt)\n",
        "plt.title('Q-Q Plot of Residuals')"
      ],
      "metadata": {
        "colab": {
          "base_uri": "https://localhost:8080/",
          "height": 287
        },
        "id": "AkEmyyfY87e0",
        "outputId": "e6f307d6-6e95-497c-c850-37a1731acea7"
      },
      "execution_count": 451,
      "outputs": [
        {
          "output_type": "execute_result",
          "data": {
            "text/plain": [
              "Text(0.5, 1.0, 'Q-Q Plot of Residuals')"
            ]
          },
          "metadata": {},
          "execution_count": 451
        },
        {
          "output_type": "display_data",
          "data": {
            "text/plain": [
              "<Figure size 640x480 with 1 Axes>"
            ],
            "image/png": "[encoded data removed]"
          },
          "metadata": {}
        }
      ]
    },
    {
      "cell_type": "code",
      "source": [
        "plt.tight_layout()\n",
        "plt.savefig('residual_plots.png')"
      ],
      "metadata": {
        "colab": {
          "base_uri": "https://localhost:8080/",
          "height": 34
        },
        "id": "Ip0b5cUQ89Ad",
        "outputId": "7f80e02f-412b-47f2-f724-2f11f24b7b56"
      },
      "execution_count": 452,
      "outputs": [
        {
          "output_type": "display_data",
          "data": {
            "text/plain": [
              "<Figure size 640x480 with 0 Axes>"
            ]
          },
          "metadata": {}
        }
      ]
    },
    {
      "cell_type": "code",
      "source": [
        "# (e) Comment on the implications of your results.\n",
        "# Calculate average heights\n",
        "avg_father = np.mean(df['Father_Height'])\n",
        "avg_mother = np.mean(df['Mother_Height'])\n",
        "avg_son = np.mean(df['Son_Height'])"
      ],
      "metadata": {
        "id": "KZBAn_yd9cxo"
      },
      "execution_count": 453,
      "outputs": []
    },
    {
      "cell_type": "code",
      "source": [
        "# Short parents\n",
        "short_father = 62\n",
        "short_mother = 62\n",
        "short_parents_prediction = model.params[0] + model.params[1] * short_father + model.params[2] * short_mother\n",
        "print(f\"For short parents (Father: {short_father}in, Mother: {short_mother}in):\")\n",
        "print(f\"Predicted Son's Height: {short_parents_prediction:.2f} inches\")\n",
        "print(f\"Difference from average son: {short_parents_prediction - avg_son:.2f} inches\")"
      ],
      "metadata": {
        "colab": {
          "base_uri": "https://localhost:8080/"
        },
        "id": "uXi6EuHx97QO",
        "outputId": "0afdb8f4-15f3-483c-9d17-8d3fcd64684b"
      },
      "execution_count": 454,
      "outputs": [
        {
          "output_type": "stream",
          "name": "stdout",
          "text": [
            "For short parents (Father: 62in, Mother: 62in):\n",
            "Predicted Son's Height: 64.68 inches\n",
            "Difference from average son: -2.33 inches\n"
          ]
        },
        {
          "output_type": "stream",
          "name": "stderr",
          "text": [
            "<ipython-input-454-1a0019a717f4>:4: FutureWarning: Series.__getitem__ treating keys as positions is deprecated. In a future version, integer keys will always be treated as labels (consistent with DataFrame behavior). To access a value by position, use `ser.iloc[pos]`\n",
            "  short_parents_prediction = model.params[0] + model.params[1] * short_father + model.params[2] * short_mother\n"
          ]
        }
      ]
    },
    {
      "cell_type": "code",
      "source": [
        "# Average parents\n",
        "avg_parents_prediction = model.params[0] + model.params[1] * avg_father + model.params[2] * avg_mother\n",
        "print(f\"For average parents (Father: {avg_father:.2f}in, Mother: {avg_mother:.2f}in):\")\n",
        "print(f\"Predicted Son's Height: {avg_parents_prediction:.2f} inches\")"
      ],
      "metadata": {
        "colab": {
          "base_uri": "https://localhost:8080/"
        },
        "id": "8AzcLSVl933T",
        "outputId": "f9c89b95-72af-41f6-f2cb-8ea05c54d1fb"
      },
      "execution_count": 455,
      "outputs": [
        {
          "output_type": "stream",
          "name": "stdout",
          "text": [
            "For average parents (Father: 66.80in, Mother: 65.20in):\n",
            "Predicted Son's Height: 67.01 inches\n"
          ]
        },
        {
          "output_type": "stream",
          "name": "stderr",
          "text": [
            "<ipython-input-455-47039899e171>:2: FutureWarning: Series.__getitem__ treating keys as positions is deprecated. In a future version, integer keys will always be treated as labels (consistent with DataFrame behavior). To access a value by position, use `ser.iloc[pos]`\n",
            "  avg_parents_prediction = model.params[0] + model.params[1] * avg_father + model.params[2] * avg_mother\n"
          ]
        }
      ]
    },
    {
      "cell_type": "code",
      "source": [
        "# Tall parents\n",
        "tall_father = 72\n",
        "tall_mother = 68\n",
        "tall_parents_prediction = model.params[0] + model.params[1] * tall_father + model.params[2] * tall_mother\n",
        "print(f\"For tall parents (Father: {tall_father}in, Mother: {tall_mother}in):\")\n",
        "print(f\"Predicted Son's Height: {tall_parents_prediction:.2f} inches\")\n",
        "print(f\"Difference from average son: {tall_parents_prediction - avg_son:.2f} inches\")"
      ],
      "metadata": {
        "colab": {
          "base_uri": "https://localhost:8080/"
        },
        "id": "NHT-lZp1-APi",
        "outputId": "55b6403c-5bd9-4284-fe0a-aa768b93337d"
      },
      "execution_count": 456,
      "outputs": [
        {
          "output_type": "stream",
          "name": "stdout",
          "text": [
            "For tall parents (Father: 72in, Mother: 68in):\n",
            "Predicted Son's Height: 69.40 inches\n",
            "Difference from average son: 2.39 inches\n"
          ]
        },
        {
          "output_type": "stream",
          "name": "stderr",
          "text": [
            "<ipython-input-456-81ce95e00dd7>:4: FutureWarning: Series.__getitem__ treating keys as positions is deprecated. In a future version, integer keys will always be treated as labels (consistent with DataFrame behavior). To access a value by position, use `ser.iloc[pos]`\n",
            "  tall_parents_prediction = model.params[0] + model.params[1] * tall_father + model.params[2] * tall_mother\n"
          ]
        }
      ]
    },
    {
      "cell_type": "code",
      "source": [
        "# Calculate regression to the mean\n",
        "print(\"Regression Toward the Mean Analysis:\")\n",
        "midpoint_height = (avg_father + avg_mother) / 2\n",
        "print(f\"Midpoint of average parent heights: {midpoint_height:.2f} inches\")"
      ],
      "metadata": {
        "colab": {
          "base_uri": "https://localhost:8080/"
        },
        "id": "qn2yS-Pc-Fnf",
        "outputId": "1e4c22c5-1d40-4bdd-f010-9c6007fc5a9f"
      },
      "execution_count": 457,
      "outputs": [
        {
          "output_type": "stream",
          "name": "stdout",
          "text": [
            "Regression Toward the Mean Analysis:\n",
            "Midpoint of average parent heights: 66.00 inches\n"
          ]
        }
      ]
    },
    {
      "cell_type": "code",
      "source": [
        "# For each family, calculate how much closer the son is to the average compared to parents\n",
        "print(\"\\nFor each family, showing regression toward the mean:\")\n",
        "df['Parents_Avg'] = (df['Father_Height'] + df['Mother_Height']) / 2\n",
        "df['Parents_Deviation'] = df['Parents_Avg'] - midpoint_height\n",
        "df['Son_Deviation'] = df['Son_Height'] - avg_son\n",
        "df['Regression_Ratio'] = df['Son_Deviation'] / df['Parents_Deviation']\n",
        "\n",
        "print(df[['Father_Height', 'Mother_Height', 'Parents_Avg', 'Parents_Deviation',\n",
        "          'Son_Height', 'Son_Deviation', 'Regression_Ratio']])\n",
        "\n",
        "avg_regression_ratio = np.mean(df['Regression_Ratio'])\n",
        "print(f\"\\nAverage Regression Ratio: {avg_regression_ratio:.4f}\")\n",
        "print(f\"This means on average, a son's deviation from mean height is about {avg_regression_ratio:.2%} of their parents' deviation\")"
      ],
      "metadata": {
        "colab": {
          "base_uri": "https://localhost:8080/"
        },
        "id": "dFQ9v4il-LBs",
        "outputId": "1f5bd924-6055-475b-9499-635236c52c3b"
      },
      "execution_count": 458,
      "outputs": [
        {
          "output_type": "stream",
          "name": "stdout",
          "text": [
            "\n",
            "For each family, showing regression toward the mean:\n",
            "   Father_Height  Mother_Height  Parents_Avg  Parents_Deviation  Son_Height  \\\n",
            "0             60             61         60.5               -5.5        63.6   \n",
            "1             62             63         62.5               -3.5        65.2   \n",
            "2             64             63         63.5               -2.5        66.0   \n",
            "3             65             64         64.5               -1.5        65.5   \n",
            "4             66             65         65.5               -0.5        66.9   \n",
            "5             67             66         66.5                0.5        67.1   \n",
            "6             68             66         67.0                1.0        67.4   \n",
            "7             70             67         68.5                2.5        68.3   \n",
            "8             72             68         70.0                4.0        70.1   \n",
            "9             74             69         71.5                5.5        70.0   \n",
            "\n",
            "   Son_Deviation  Regression_Ratio  \n",
            "0          -3.41          0.620000  \n",
            "1          -1.81          0.517143  \n",
            "2          -1.01          0.404000  \n",
            "3          -1.51          1.006667  \n",
            "4          -0.11          0.220000  \n",
            "5           0.09          0.180000  \n",
            "6           0.39          0.390000  \n",
            "7           1.29          0.516000  \n",
            "8           3.09          0.772500  \n",
            "9           2.99          0.543636  \n",
            "\n",
            "Average Regression Ratio: 0.5170\n",
            "This means on average, a son's deviation from mean height is about 51.70% of their parents' deviation\n"
          ]
        }
      ]
    }
  ]
}